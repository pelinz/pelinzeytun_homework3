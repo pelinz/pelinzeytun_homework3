{
 "cells": [
  {
   "cell_type": "code",
   "execution_count": 2,
   "metadata": {},
   "outputs": [],
   "source": [
    "from __future__ import print_function, division\n",
    "\n",
    "%matplotlib inline\n",
    "\n",
    "import numpy as np\n",
    "\n",
    "import brfss\n",
    "\n",
    "import thinkstats2\n",
    "import thinkplot\n",
    "import nsfg"
   ]
  },
  {
   "cell_type": "code",
   "execution_count": 12,
   "metadata": {},
   "outputs": [],
   "source": [
    "data=nsfg.ReadFemResp()"
   ]
  },
  {
   "cell_type": "code",
   "execution_count": 47,
   "metadata": {},
   "outputs": [
    {
     "data": {
      "text/plain": [
       "1       2.0\n",
       "2       1.0\n",
       "5       1.0\n",
       "8       1.0\n",
       "10      1.0\n",
       "11      1.0\n",
       "12      1.0\n",
       "13      2.0\n",
       "14      1.0\n",
       "16      1.0\n",
       "17      1.0\n",
       "19      1.0\n",
       "21      1.0\n",
       "22      1.0\n",
       "23      1.0\n",
       "24      1.0\n",
       "27      1.0\n",
       "28      1.0\n",
       "29      1.0\n",
       "30      1.0\n",
       "31      1.0\n",
       "33      1.0\n",
       "34      1.0\n",
       "35      1.0\n",
       "36      1.0\n",
       "38      1.0\n",
       "42      2.0\n",
       "43      1.0\n",
       "44      1.0\n",
       "45      2.0\n",
       "       ... \n",
       "7583    1.0\n",
       "7590    1.0\n",
       "7591    1.0\n",
       "7593    1.0\n",
       "7598    2.0\n",
       "7599    3.0\n",
       "7601    1.0\n",
       "7603    1.0\n",
       "7605    1.0\n",
       "7606    1.0\n",
       "7607    3.0\n",
       "7608    1.0\n",
       "7609    4.0\n",
       "7612    1.0\n",
       "7614    1.0\n",
       "7616    2.0\n",
       "7617    1.0\n",
       "7618    1.0\n",
       "7619    1.0\n",
       "7620    1.0\n",
       "7624    1.0\n",
       "7629    1.0\n",
       "7630    1.0\n",
       "7632    1.0\n",
       "7633    1.0\n",
       "7634    1.0\n",
       "7635    1.0\n",
       "7636    1.0\n",
       "7637    1.0\n",
       "7638    2.0\n",
       "Name: timesmar, Length: 4126, dtype: float64"
      ]
     },
     "execution_count": 47,
     "metadata": {},
     "output_type": "execute_result"
    }
   ],
   "source": [
    "data1= data.timesmar.dropna()\n",
    "data1"
   ]
  },
  {
   "cell_type": "code",
   "execution_count": 48,
   "metadata": {},
   "outputs": [
    {
     "data": {
      "text/plain": [
       "1.387057682985943"
      ]
     },
     "execution_count": 48,
     "metadata": {},
     "output_type": "execute_result"
    }
   ],
   "source": [
    "data1.mean()"
   ]
  },
  {
   "cell_type": "code",
   "execution_count": 49,
   "metadata": {},
   "outputs": [
    {
     "data": {
      "text/plain": [
       "4.297113023253083"
      ]
     },
     "execution_count": 49,
     "metadata": {},
     "output_type": "execute_result"
    }
   ],
   "source": [
    "data1.std()"
   ]
  },
  {
   "cell_type": "code",
   "execution_count": 43,
   "metadata": {},
   "outputs": [
    {
     "data": {
      "text/plain": [
       "11      1.0\n",
       "12      2.0\n",
       "13      1.0\n",
       "25      3.0\n",
       "29      2.0\n",
       "43      1.0\n",
       "45      1.0\n",
       "48      2.0\n",
       "51      2.0\n",
       "57      2.0\n",
       "58      2.0\n",
       "60      2.0\n",
       "74      1.0\n",
       "81      1.0\n",
       "85      1.0\n",
       "88      2.0\n",
       "91      5.0\n",
       "100     4.0\n",
       "104     1.0\n",
       "116     5.0\n",
       "121     2.0\n",
       "127     1.0\n",
       "128     1.0\n",
       "140     2.0\n",
       "141     1.0\n",
       "150     2.0\n",
       "169     1.0\n",
       "183     1.0\n",
       "196     1.0\n",
       "197     3.0\n",
       "       ... \n",
       "7463    1.0\n",
       "7471    2.0\n",
       "7487    1.0\n",
       "7488    1.0\n",
       "7490    5.0\n",
       "7498    1.0\n",
       "7505    1.0\n",
       "7507    4.0\n",
       "7528    3.0\n",
       "7529    2.0\n",
       "7533    1.0\n",
       "7534    2.0\n",
       "7537    2.0\n",
       "7542    1.0\n",
       "7547    2.0\n",
       "7552    3.0\n",
       "7558    1.0\n",
       "7559    2.0\n",
       "7567    2.0\n",
       "7572    2.0\n",
       "7573    1.0\n",
       "7583    2.0\n",
       "7591    1.0\n",
       "7596    2.0\n",
       "7597    2.0\n",
       "7614    2.0\n",
       "7617    2.0\n",
       "7620    1.0\n",
       "7623    2.0\n",
       "7638    2.0\n",
       "Name: jintendn, Length: 1408, dtype: float64"
      ]
     },
     "execution_count": 43,
     "metadata": {},
     "output_type": "execute_result"
    }
   ],
   "source": [
    "data2= data.jintendn.dropna()\n",
    "data2"
   ]
  },
  {
   "cell_type": "code",
   "execution_count": 44,
   "metadata": {},
   "outputs": [
    {
     "data": {
      "text/plain": [
       "2.7052556818181817"
      ]
     },
     "execution_count": 44,
     "metadata": {},
     "output_type": "execute_result"
    }
   ],
   "source": [
    "data2.mean()"
   ]
  },
  {
   "cell_type": "code",
   "execution_count": 45,
   "metadata": {},
   "outputs": [
    {
     "data": {
      "text/plain": [
       "9.710108051456988"
      ]
     },
     "execution_count": 45,
     "metadata": {},
     "output_type": "execute_result"
    }
   ],
   "source": [
    "data2.std()"
   ]
  },
  {
   "cell_type": "code",
   "execution_count": 50,
   "metadata": {},
   "outputs": [],
   "source": [
    "mean1= data1.mean()\n",
    "std1= data1.std()"
   ]
  },
  {
   "cell_type": "code",
   "execution_count": 51,
   "metadata": {},
   "outputs": [
    {
     "data": {
      "text/plain": [
       "0.05631006752900393"
      ]
     },
     "execution_count": 51,
     "metadata": {},
     "output_type": "execute_result"
    }
   ],
   "source": [
    "pdf = thinkstats2.NormalPdf(mean1, std1)\n",
    "pdf.Density(mean1 + std1)"
   ]
  },
  {
   "cell_type": "code",
   "execution_count": 53,
   "metadata": {},
   "outputs": [],
   "source": [
    "mean2= data2.mean()\n",
    "std2= data2.std()"
   ]
  },
  {
   "cell_type": "code",
   "execution_count": 55,
   "metadata": {},
   "outputs": [
    {
     "data": {
      "text/plain": [
       "0.024919467758428907"
      ]
     },
     "execution_count": 55,
     "metadata": {},
     "output_type": "execute_result"
    }
   ],
   "source": [
    "pdf2 = thinkstats2.NormalPdf(mean2, std2)\n",
    "pdf2.Density(mean2 + std2)"
   ]
  },
  {
   "cell_type": "code",
   "execution_count": 66,
   "metadata": {},
   "outputs": [
    {
     "data": {
      "text/plain": [
       "1.0"
      ]
     },
     "execution_count": 66,
     "metadata": {},
     "output_type": "execute_result"
    }
   ],
   "source": [
    "data1.median()"
   ]
  },
  {
   "cell_type": "code",
   "execution_count": 67,
   "metadata": {},
   "outputs": [
    {
     "data": {
      "text/plain": [
       "1.0"
      ]
     },
     "execution_count": 67,
     "metadata": {},
     "output_type": "execute_result"
    }
   ],
   "source": [
    "data2.median()"
   ]
  },
  {
   "cell_type": "code",
   "execution_count": 73,
   "metadata": {},
   "outputs": [],
   "source": [
    "def RawMoment(xs, k):\n",
    "    return sum(x**k for x in xs) / len(xs)"
   ]
  },
  {
   "cell_type": "code",
   "execution_count": 74,
   "metadata": {},
   "outputs": [
    {
     "data": {
      "text/plain": [
       "(1.387057682985943, 20.384634028114398, 1841.8805138148327)"
      ]
     },
     "execution_count": 74,
     "metadata": {},
     "output_type": "execute_result"
    }
   ],
   "source": [
    "RawMoment(data1, 1), RawMoment(data1, 2), RawMoment(data1, 3)"
   ]
  },
  {
   "cell_type": "code",
   "execution_count": 77,
   "metadata": {},
   "outputs": [],
   "source": [
    "def CentralMoment(xs, k):\n",
    "    data1_mean = RawMoment(xs, 1)\n",
    "    data1_sum_list = [(x - data1_mean)**k for x in xs]\n",
    "    return sum(data1_sum_list) / len(data1_sum_list)"
   ]
  },
  {
   "cell_type": "code",
   "execution_count": 76,
   "metadata": {},
   "outputs": [
    {
     "data": {
      "text/plain": [
       "(-1.2793127358889589e-15, 18.460705012183197, 1762.3937251304174)"
      ]
     },
     "execution_count": 76,
     "metadata": {},
     "output_type": "execute_result"
    }
   ],
   "source": [
    "CentralMoment(data1, 1), CentralMoment(data1, 2), CentralMoment(data1, 3)"
   ]
  },
  {
   "cell_type": "code",
   "execution_count": 80,
   "metadata": {},
   "outputs": [],
   "source": [
    "def StandardizedMoment(xs, k):\n",
    "    var = CentralMoment(xs, 2)\n",
    "    std = np.sqrt(var)\n",
    "    return CentralMoment(xs, k) / std**k"
   ]
  },
  {
   "cell_type": "code",
   "execution_count": 81,
   "metadata": {},
   "outputs": [
    {
     "data": {
      "text/plain": [
       "(-2.9775055665951693e-16, 1.0000000000000002, 22.219307220678285)"
      ]
     },
     "execution_count": 81,
     "metadata": {},
     "output_type": "execute_result"
    }
   ],
   "source": [
    "StandardizedMoment(data1, 1), StandardizedMoment(data1, 2), StandardizedMoment(data1, 3)"
   ]
  },
  {
   "cell_type": "code",
   "execution_count": 82,
   "metadata": {},
   "outputs": [
    {
     "data": {
      "text/plain": [
       "22.219307220678285"
      ]
     },
     "execution_count": 82,
     "metadata": {},
     "output_type": "execute_result"
    }
   ],
   "source": [
    "def Skewness(xs):\n",
    "    return StandardizedMoment(xs, 3)\n",
    "\n",
    "Skewness(data1)"
   ]
  },
  {
   "cell_type": "code",
   "execution_count": 84,
   "metadata": {},
   "outputs": [],
   "source": [
    "def Median(xs):\n",
    "    cdf = thinkstats2.Cdf(xs)\n",
    "    return cdf.Value(0.5)"
   ]
  },
  {
   "cell_type": "code",
   "execution_count": 88,
   "metadata": {},
   "outputs": [
    {
     "data": {
      "text/plain": [
       "1.387057682985943"
      ]
     },
     "execution_count": 88,
     "metadata": {},
     "output_type": "execute_result"
    }
   ],
   "source": [
    "def Mean(xs):\n",
    "    return RawMoment(xs, 1)\n",
    "\n",
    "Mean(data1)"
   ]
  },
  {
   "cell_type": "code",
   "execution_count": 89,
   "metadata": {},
   "outputs": [],
   "source": [
    "def PearsonMedianSkewness(xs):\n",
    "    median = Median(xs)\n",
    "    mean = RawMoment(xs, 1)\n",
    "    var = CentralMoment(xs, 2)\n",
    "    std = np.sqrt(var)\n",
    "    gp = 3 * (mean - median) / std\n",
    "    return gp"
   ]
  },
  {
   "cell_type": "code",
   "execution_count": 90,
   "metadata": {},
   "outputs": [
    {
     "data": {
      "text/plain": [
       "0.27025442021022084"
      ]
     },
     "execution_count": 90,
     "metadata": {},
     "output_type": "execute_result"
    }
   ],
   "source": [
    "PearsonMedianSkewness(data1)"
   ]
  },
  {
   "cell_type": "code",
   "execution_count": 91,
   "metadata": {},
   "outputs": [
    {
     "data": {
      "text/plain": [
       "(22.219307220678285, 0.27025442021022084)"
      ]
     },
     "execution_count": 91,
     "metadata": {},
     "output_type": "execute_result"
    }
   ],
   "source": [
    "Skewness(data1), PearsonMedianSkewness(data1)"
   ]
  },
  {
   "cell_type": "code",
   "execution_count": 92,
   "metadata": {},
   "outputs": [
    {
     "data": {
      "text/plain": [
       "(9.686914057933583, 0.5270368429720083)"
      ]
     },
     "execution_count": 92,
     "metadata": {},
     "output_type": "execute_result"
    }
   ],
   "source": [
    "Skewness(data2), PearsonMedianSkewness(data2)"
   ]
  },
  {
   "cell_type": "code",
   "execution_count": 101,
   "metadata": {},
   "outputs": [],
   "source": [
    "def Cov(data1, data2, mean1=None, mean2=None):\n",
    "    data1 = np.asarray(data1)\n",
    "    data2 = np.asarray(data2)\n",
    "\n",
    "    if mean2 is None:\n",
    "        mean1 = np.mean(data1)\n",
    "    if mean2 is None:\n",
    "        mean2 = np.mean(data2)\n",
    "\n",
    "    cov = np.dot(data1-mean1, data2-mean2) / len(data1)\n",
    "    return cov"
   ]
  },
  {
   "cell_type": "code",
   "execution_count": null,
   "metadata": {},
   "outputs": [],
   "source": []
  },
  {
   "cell_type": "code",
   "execution_count": null,
   "metadata": {},
   "outputs": [],
   "source": []
  },
  {
   "cell_type": "code",
   "execution_count": null,
   "metadata": {},
   "outputs": [],
   "source": []
  }
 ],
 "metadata": {
  "kernelspec": {
   "display_name": "Python 2",
   "language": "python",
   "name": "python2"
  },
  "language_info": {
   "codemirror_mode": {
    "name": "ipython",
    "version": 2
   },
   "file_extension": ".py",
   "mimetype": "text/x-python",
   "name": "python",
   "nbconvert_exporter": "python",
   "pygments_lexer": "ipython2",
   "version": "2.7.14"
  }
 },
 "nbformat": 4,
 "nbformat_minor": 2
}
